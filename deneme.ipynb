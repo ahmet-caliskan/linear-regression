{
 "cells": [
  {
   "cell_type": "code",
   "execution_count": 1,
   "metadata": {
    "collapsed": true
   },
   "outputs": [],
   "source": [
    "import numpy as np\n",
    "import pandas as pd\n",
    "import matplotlib.pyplot as plt\n",
    "import seaborn as sns"
   ]
  },
  {
   "cell_type": "code",
   "execution_count": 2,
   "outputs": [],
   "source": [
    "df = pd.read_csv(\"clean_data_eda.csv\")"
   ],
   "metadata": {
    "collapsed": false,
    "pycharm": {
     "name": "#%%\n"
    }
   }
  },
  {
   "cell_type": "code",
   "execution_count": 4,
   "outputs": [
    {
     "data": {
      "text/plain": "  make_model body_type  price               vat       km  type  \\\n0    Audi A1    Sedans  15770    VAT deductible  56013.0  Used   \n1    Audi A1    Sedans  14500  Price negotiable  80000.0  Used   \n2    Audi A1    Sedans  14640    VAT deductible  83450.0  Used   \n3    Audi A1    Sedans  14500    VAT deductible  73000.0  Used   \n4    Audi A1    Sedans  16790    VAT deductible  16200.0  Used   \n\n   previous_owners  inspection_new body_color upholstery  ...  ss_Side airbag  \\\n0              2.0               1      Black      Cloth  ...               1   \n1              1.0               0        Red      Cloth  ...               1   \n2              1.0               0      Black      Cloth  ...               1   \n3              1.0               0      Brown      Cloth  ...               1   \n4              1.0               1      Black      Cloth  ...               1   \n\n   ss_Tire pressure monitoring system ss_Traction control  \\\n0                                   1                   1   \n1                                   1                   1   \n2                                   1                   1   \n3                                   1                   0   \n4                                   1                   1   \n\n  ss_Traffic sign recognition  ss_Xenon headlights  consumption_comb  \\\n0                           0                    1               3.8   \n1                           0                    1               5.6   \n2                           0                    0               3.8   \n3                           0                    0               3.8   \n4                           0                    1               4.1   \n\n   displacement_cc  register_age  fuel_new  hp_kw  \n0           1422.0           4.0    Diesel   66.0  \n1           1798.0           3.0   Benzine  141.0  \n2           1598.0           4.0    Diesel   85.0  \n3           1422.0           4.0    Diesel   66.0  \n4           1422.0           4.0    Diesel   66.0  \n\n[5 rows x 114 columns]",
      "text/html": "<div>\n<style scoped>\n    .dataframe tbody tr th:only-of-type {\n        vertical-align: middle;\n    }\n\n    .dataframe tbody tr th {\n        vertical-align: top;\n    }\n\n    .dataframe thead th {\n        text-align: right;\n    }\n</style>\n<table border=\"1\" class=\"dataframe\">\n  <thead>\n    <tr style=\"text-align: right;\">\n      <th></th>\n      <th>make_model</th>\n      <th>body_type</th>\n      <th>price</th>\n      <th>vat</th>\n      <th>km</th>\n      <th>type</th>\n      <th>previous_owners</th>\n      <th>inspection_new</th>\n      <th>body_color</th>\n      <th>upholstery</th>\n      <th>...</th>\n      <th>ss_Side airbag</th>\n      <th>ss_Tire pressure monitoring system</th>\n      <th>ss_Traction control</th>\n      <th>ss_Traffic sign recognition</th>\n      <th>ss_Xenon headlights</th>\n      <th>consumption_comb</th>\n      <th>displacement_cc</th>\n      <th>register_age</th>\n      <th>fuel_new</th>\n      <th>hp_kw</th>\n    </tr>\n  </thead>\n  <tbody>\n    <tr>\n      <th>0</th>\n      <td>Audi A1</td>\n      <td>Sedans</td>\n      <td>15770</td>\n      <td>VAT deductible</td>\n      <td>56013.0</td>\n      <td>Used</td>\n      <td>2.0</td>\n      <td>1</td>\n      <td>Black</td>\n      <td>Cloth</td>\n      <td>...</td>\n      <td>1</td>\n      <td>1</td>\n      <td>1</td>\n      <td>0</td>\n      <td>1</td>\n      <td>3.8</td>\n      <td>1422.0</td>\n      <td>4.0</td>\n      <td>Diesel</td>\n      <td>66.0</td>\n    </tr>\n    <tr>\n      <th>1</th>\n      <td>Audi A1</td>\n      <td>Sedans</td>\n      <td>14500</td>\n      <td>Price negotiable</td>\n      <td>80000.0</td>\n      <td>Used</td>\n      <td>1.0</td>\n      <td>0</td>\n      <td>Red</td>\n      <td>Cloth</td>\n      <td>...</td>\n      <td>1</td>\n      <td>1</td>\n      <td>1</td>\n      <td>0</td>\n      <td>1</td>\n      <td>5.6</td>\n      <td>1798.0</td>\n      <td>3.0</td>\n      <td>Benzine</td>\n      <td>141.0</td>\n    </tr>\n    <tr>\n      <th>2</th>\n      <td>Audi A1</td>\n      <td>Sedans</td>\n      <td>14640</td>\n      <td>VAT deductible</td>\n      <td>83450.0</td>\n      <td>Used</td>\n      <td>1.0</td>\n      <td>0</td>\n      <td>Black</td>\n      <td>Cloth</td>\n      <td>...</td>\n      <td>1</td>\n      <td>1</td>\n      <td>1</td>\n      <td>0</td>\n      <td>0</td>\n      <td>3.8</td>\n      <td>1598.0</td>\n      <td>4.0</td>\n      <td>Diesel</td>\n      <td>85.0</td>\n    </tr>\n    <tr>\n      <th>3</th>\n      <td>Audi A1</td>\n      <td>Sedans</td>\n      <td>14500</td>\n      <td>VAT deductible</td>\n      <td>73000.0</td>\n      <td>Used</td>\n      <td>1.0</td>\n      <td>0</td>\n      <td>Brown</td>\n      <td>Cloth</td>\n      <td>...</td>\n      <td>1</td>\n      <td>1</td>\n      <td>0</td>\n      <td>0</td>\n      <td>0</td>\n      <td>3.8</td>\n      <td>1422.0</td>\n      <td>4.0</td>\n      <td>Diesel</td>\n      <td>66.0</td>\n    </tr>\n    <tr>\n      <th>4</th>\n      <td>Audi A1</td>\n      <td>Sedans</td>\n      <td>16790</td>\n      <td>VAT deductible</td>\n      <td>16200.0</td>\n      <td>Used</td>\n      <td>1.0</td>\n      <td>1</td>\n      <td>Black</td>\n      <td>Cloth</td>\n      <td>...</td>\n      <td>1</td>\n      <td>1</td>\n      <td>1</td>\n      <td>0</td>\n      <td>1</td>\n      <td>4.1</td>\n      <td>1422.0</td>\n      <td>4.0</td>\n      <td>Diesel</td>\n      <td>66.0</td>\n    </tr>\n  </tbody>\n</table>\n<p>5 rows × 114 columns</p>\n</div>"
     },
     "execution_count": 4,
     "metadata": {},
     "output_type": "execute_result"
    }
   ],
   "source": [
    "df.head()"
   ],
   "metadata": {
    "collapsed": false,
    "pycharm": {
     "name": "#%%\n"
    }
   }
  },
  {
   "cell_type": "code",
   "execution_count": 8,
   "outputs": [],
   "source": [
    "dummied_data = pd.get_dummies(df, drop_first=1)"
   ],
   "metadata": {
    "collapsed": false,
    "pycharm": {
     "name": "#%%\n"
    }
   }
  },
  {
   "cell_type": "code",
   "execution_count": 10,
   "outputs": [],
   "source": [
    "pd.to_pickle(dummied_data, \"car_data_dummy.pkl\")"
   ],
   "metadata": {
    "collapsed": false,
    "pycharm": {
     "name": "#%%\n"
    }
   }
  },
  {
   "cell_type": "code",
   "execution_count": null,
   "outputs": [],
   "source": [],
   "metadata": {
    "collapsed": false,
    "pycharm": {
     "name": "#%%\n"
    }
   }
  }
 ],
 "metadata": {
  "kernelspec": {
   "display_name": "Python 3",
   "language": "python",
   "name": "python3"
  },
  "language_info": {
   "codemirror_mode": {
    "name": "ipython",
    "version": 2
   },
   "file_extension": ".py",
   "mimetype": "text/x-python",
   "name": "python",
   "nbconvert_exporter": "python",
   "pygments_lexer": "ipython2",
   "version": "2.7.6"
  }
 },
 "nbformat": 4,
 "nbformat_minor": 0
}