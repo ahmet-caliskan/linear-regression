{
 "cells": [
  {
   "cell_type": "code",
   "execution_count": 161,
   "metadata": {},
   "outputs": [],
   "source": [
    "import numpy as np\n",
    "import pandas as pd\n",
    "import matplotlib.pyplot as plt\n",
    "import seaborn as sns\n",
    "from sklearn.metrics import mean_absolute_error, mean_squared_error, r2_score\n",
    "from sklearn.model_selection import train_test_split, GridSearchCV, cross_val_score\n",
    "from sklearn.linear_model import LinearRegression, Ridge, RidgeCV, Lasso, LassoCV\n",
    "from yellowbrick.regressor import ResidualsPlot\n",
    "from sklearn.ensemble import RandomForestRegressor\n",
    "from xgboost import XGBRegressor"
   ]
  },
  {
   "cell_type": "code",
   "execution_count": 16,
   "metadata": {},
   "outputs": [],
   "source": [
    "df = pd.read_pickle(\"car_data_dummy.pkl\")"
   ]
  },
  {
   "cell_type": "code",
   "execution_count": 17,
   "metadata": {},
   "outputs": [
    {
     "data": {
      "text/plain": [
       "(15915, 144)"
      ]
     },
     "execution_count": 17,
     "metadata": {},
     "output_type": "execute_result"
    }
   ],
   "source": [
    "df.shape"
   ]
  },
  {
   "cell_type": "code",
   "execution_count": 18,
   "metadata": {},
   "outputs": [
    {
     "data": {
      "text/html": [
       "<div>\n",
       "<style scoped>\n",
       "    .dataframe tbody tr th:only-of-type {\n",
       "        vertical-align: middle;\n",
       "    }\n",
       "\n",
       "    .dataframe tbody tr th {\n",
       "        vertical-align: top;\n",
       "    }\n",
       "\n",
       "    .dataframe thead th {\n",
       "        text-align: right;\n",
       "    }\n",
       "</style>\n",
       "<table border=\"1\" class=\"dataframe\">\n",
       "  <thead>\n",
       "    <tr style=\"text-align: right;\">\n",
       "      <th></th>\n",
       "      <th>price</th>\n",
       "      <th>km</th>\n",
       "      <th>previous_owners</th>\n",
       "      <th>inspection_new</th>\n",
       "      <th>nr_of_doors</th>\n",
       "      <th>nr_of_seats</th>\n",
       "      <th>gears</th>\n",
       "      <th>cc_Air conditioning</th>\n",
       "      <th>cc_Air suspension</th>\n",
       "      <th>cc_Armrest</th>\n",
       "      <th>...</th>\n",
       "      <th>body_color_Violet</th>\n",
       "      <th>body_color_White</th>\n",
       "      <th>body_color_Yellow</th>\n",
       "      <th>upholstery_Part/Full Leather</th>\n",
       "      <th>gearing_type_Manual</th>\n",
       "      <th>gearing_type_Semi-automatic</th>\n",
       "      <th>drive_chain_front</th>\n",
       "      <th>drive_chain_rear</th>\n",
       "      <th>fuel_new_Diesel</th>\n",
       "      <th>fuel_new_LPG/CNG</th>\n",
       "    </tr>\n",
       "  </thead>\n",
       "  <tbody>\n",
       "    <tr>\n",
       "      <th>0</th>\n",
       "      <td>15770</td>\n",
       "      <td>56013.0</td>\n",
       "      <td>2.0</td>\n",
       "      <td>1</td>\n",
       "      <td>5</td>\n",
       "      <td>5</td>\n",
       "      <td>6.0</td>\n",
       "      <td>1</td>\n",
       "      <td>0</td>\n",
       "      <td>1</td>\n",
       "      <td>...</td>\n",
       "      <td>0</td>\n",
       "      <td>0</td>\n",
       "      <td>0</td>\n",
       "      <td>0</td>\n",
       "      <td>0</td>\n",
       "      <td>0</td>\n",
       "      <td>1</td>\n",
       "      <td>0</td>\n",
       "      <td>1</td>\n",
       "      <td>0</td>\n",
       "    </tr>\n",
       "    <tr>\n",
       "      <th>1</th>\n",
       "      <td>14500</td>\n",
       "      <td>80000.0</td>\n",
       "      <td>1.0</td>\n",
       "      <td>0</td>\n",
       "      <td>3</td>\n",
       "      <td>4</td>\n",
       "      <td>7.0</td>\n",
       "      <td>1</td>\n",
       "      <td>0</td>\n",
       "      <td>0</td>\n",
       "      <td>...</td>\n",
       "      <td>0</td>\n",
       "      <td>0</td>\n",
       "      <td>0</td>\n",
       "      <td>0</td>\n",
       "      <td>0</td>\n",
       "      <td>0</td>\n",
       "      <td>1</td>\n",
       "      <td>0</td>\n",
       "      <td>0</td>\n",
       "      <td>0</td>\n",
       "    </tr>\n",
       "    <tr>\n",
       "      <th>2</th>\n",
       "      <td>14640</td>\n",
       "      <td>83450.0</td>\n",
       "      <td>1.0</td>\n",
       "      <td>0</td>\n",
       "      <td>4</td>\n",
       "      <td>4</td>\n",
       "      <td>6.0</td>\n",
       "      <td>1</td>\n",
       "      <td>0</td>\n",
       "      <td>0</td>\n",
       "      <td>...</td>\n",
       "      <td>0</td>\n",
       "      <td>0</td>\n",
       "      <td>0</td>\n",
       "      <td>0</td>\n",
       "      <td>0</td>\n",
       "      <td>0</td>\n",
       "      <td>1</td>\n",
       "      <td>0</td>\n",
       "      <td>1</td>\n",
       "      <td>0</td>\n",
       "    </tr>\n",
       "    <tr>\n",
       "      <th>3</th>\n",
       "      <td>14500</td>\n",
       "      <td>73000.0</td>\n",
       "      <td>1.0</td>\n",
       "      <td>0</td>\n",
       "      <td>3</td>\n",
       "      <td>4</td>\n",
       "      <td>6.0</td>\n",
       "      <td>0</td>\n",
       "      <td>1</td>\n",
       "      <td>1</td>\n",
       "      <td>...</td>\n",
       "      <td>0</td>\n",
       "      <td>0</td>\n",
       "      <td>0</td>\n",
       "      <td>0</td>\n",
       "      <td>0</td>\n",
       "      <td>0</td>\n",
       "      <td>1</td>\n",
       "      <td>0</td>\n",
       "      <td>1</td>\n",
       "      <td>0</td>\n",
       "    </tr>\n",
       "    <tr>\n",
       "      <th>4</th>\n",
       "      <td>16790</td>\n",
       "      <td>16200.0</td>\n",
       "      <td>1.0</td>\n",
       "      <td>1</td>\n",
       "      <td>5</td>\n",
       "      <td>5</td>\n",
       "      <td>6.0</td>\n",
       "      <td>1</td>\n",
       "      <td>0</td>\n",
       "      <td>1</td>\n",
       "      <td>...</td>\n",
       "      <td>0</td>\n",
       "      <td>0</td>\n",
       "      <td>0</td>\n",
       "      <td>0</td>\n",
       "      <td>0</td>\n",
       "      <td>0</td>\n",
       "      <td>1</td>\n",
       "      <td>0</td>\n",
       "      <td>1</td>\n",
       "      <td>0</td>\n",
       "    </tr>\n",
       "  </tbody>\n",
       "</table>\n",
       "<p>5 rows × 144 columns</p>\n",
       "</div>"
      ],
      "text/plain": [
       "   price       km  previous_owners  inspection_new  nr_of_doors  nr_of_seats  \\\n",
       "0  15770  56013.0              2.0               1            5            5   \n",
       "1  14500  80000.0              1.0               0            3            4   \n",
       "2  14640  83450.0              1.0               0            4            4   \n",
       "3  14500  73000.0              1.0               0            3            4   \n",
       "4  16790  16200.0              1.0               1            5            5   \n",
       "\n",
       "   gears  cc_Air conditioning  cc_Air suspension  cc_Armrest  ...  \\\n",
       "0    6.0                    1                  0           1  ...   \n",
       "1    7.0                    1                  0           0  ...   \n",
       "2    6.0                    1                  0           0  ...   \n",
       "3    6.0                    0                  1           1  ...   \n",
       "4    6.0                    1                  0           1  ...   \n",
       "\n",
       "   body_color_Violet  body_color_White  body_color_Yellow  \\\n",
       "0                  0                 0                  0   \n",
       "1                  0                 0                  0   \n",
       "2                  0                 0                  0   \n",
       "3                  0                 0                  0   \n",
       "4                  0                 0                  0   \n",
       "\n",
       "   upholstery_Part/Full Leather  gearing_type_Manual  \\\n",
       "0                             0                    0   \n",
       "1                             0                    0   \n",
       "2                             0                    0   \n",
       "3                             0                    0   \n",
       "4                             0                    0   \n",
       "\n",
       "   gearing_type_Semi-automatic  drive_chain_front  drive_chain_rear  \\\n",
       "0                            0                  1                 0   \n",
       "1                            0                  1                 0   \n",
       "2                            0                  1                 0   \n",
       "3                            0                  1                 0   \n",
       "4                            0                  1                 0   \n",
       "\n",
       "   fuel_new_Diesel  fuel_new_LPG/CNG  \n",
       "0                1                 0  \n",
       "1                0                 0  \n",
       "2                1                 0  \n",
       "3                1                 0  \n",
       "4                1                 0  \n",
       "\n",
       "[5 rows x 144 columns]"
      ]
     },
     "execution_count": 18,
     "metadata": {},
     "output_type": "execute_result"
    }
   ],
   "source": [
    "df.head()"
   ]
  },
  {
   "cell_type": "code",
   "execution_count": 22,
   "metadata": {},
   "outputs": [
    {
     "data": {
      "text/plain": [
       "<AxesSubplot:>"
      ]
     },
     "execution_count": 22,
     "metadata": {},
     "output_type": "execute_result"
    },
    {
     "data": {
      "image/png": "[encoded data removed]",
      "text/plain": [
       "<Figure size 432x288 with 1 Axes>"
      ]
     },
     "metadata": {
      "needs_background": "light"
     },
     "output_type": "display_data"
    }
   ],
   "source": [
    "df.corr()[\"price\"].sort_values().head(10).plot.barh()"
   ]
  },
  {
   "cell_type": "code",
   "execution_count": 23,
   "metadata": {},
   "outputs": [
    {
     "data": {
      "text/plain": [
       "<AxesSubplot:>"
      ]
     },
     "execution_count": 23,
     "metadata": {},
     "output_type": "execute_result"
    },
    {
     "data": {
      "image/png": "[encoded data removed]",
      "text/plain": [
       "<Figure size 432x288 with 1 Axes>"
      ]
     },
     "metadata": {
      "needs_background": "light"
     },
     "output_type": "display_data"
    }
   ],
   "source": [
    "df.corr()[\"price\"].sort_values().tail(10).plot.barh()"
   ]
  },
  {
   "cell_type": "code",
   "execution_count": 29,
   "metadata": {},
   "outputs": [
    {
     "data": {
      "text/plain": [
       "<AxesSubplot:xlabel='price', ylabel='Count'>"
      ]
     },
     "execution_count": 29,
     "metadata": {},
     "output_type": "execute_result"
    },
    {
     "data": {
      "image/png": "[encoded data removed]",
      "text/plain": [
       "<Figure size 432x288 with 1 Axes>"
      ]
     },
     "metadata": {
      "needs_background": "light"
     },
     "output_type": "display_data"
    }
   ],
   "source": [
    "sns.histplot(df.price, kde=True)"
   ]
  },
  {
   "cell_type": "code",
   "execution_count": 30,
   "metadata": {},
   "outputs": [
    {
     "data": {
      "text/plain": [
       "<AxesSubplot:xlabel='price'>"
      ]
     },
     "execution_count": 30,
     "metadata": {},
     "output_type": "execute_result"
    },
    {
     "data": {
      "image/png": "[encoded data removed]",
      "text/plain": [
       "<Figure size 432x288 with 1 Axes>"
      ]
     },
     "metadata": {
      "needs_background": "light"
     },
     "output_type": "display_data"
    }
   ],
   "source": [
    "sns.boxplot(x=df.price)"
   ]
  },
  {
   "cell_type": "code",
   "execution_count": 31,
   "metadata": {},
   "outputs": [],
   "source": [
    "X = df.drop(\"price\", axis=1)\n",
    "y = df.price"
   ]
  },
  {
   "cell_type": "code",
   "execution_count": 32,
   "metadata": {},
   "outputs": [
    {
     "data": {
      "text/plain": [
       "(15915, 143)"
      ]
     },
     "execution_count": 32,
     "metadata": {},
     "output_type": "execute_result"
    }
   ],
   "source": [
    "X.shape"
   ]
  },
  {
   "cell_type": "code",
   "execution_count": 33,
   "metadata": {},
   "outputs": [
    {
     "data": {
      "text/plain": [
       "(15915,)"
      ]
     },
     "execution_count": 33,
     "metadata": {},
     "output_type": "execute_result"
    }
   ],
   "source": [
    "y.shape"
   ]
  },
  {
   "cell_type": "code",
   "execution_count": 36,
   "metadata": {},
   "outputs": [
    {
     "data": {
      "text/plain": [
       "0"
      ]
     },
     "execution_count": 36,
     "metadata": {},
     "output_type": "execute_result"
    }
   ],
   "source": [
    "df.isnull().any().sum()"
   ]
  },
  {
   "cell_type": "code",
   "execution_count": 37,
   "metadata": {},
   "outputs": [],
   "source": [
    "X_train, X_test, y_train, y_test = train_test_split(X, y, test_size=0.2, random_state=42)"
   ]
  },
  {
   "cell_type": "code",
   "execution_count": 38,
   "metadata": {},
   "outputs": [],
   "source": [
    "def eval_metrics(actual, pred):\n",
    "    rmse = np.sqrt(mean_squared_error(actual, pred))\n",
    "    mae = mean_absolute_error(actual, pred)\n",
    "    mse = mean_squared_error(actual, pred)\n",
    "    score = r2_score(actual, pred)\n",
    "    return print(\"r2_score:\", score, \"\\n\", \"mae:\", mae, \"\\n\", \"mse:\", mse, \"\\n\", \"rmse:\", rmse)"
   ]
  },
  {
   "cell_type": "code",
   "execution_count": 39,
   "metadata": {},
   "outputs": [],
   "source": [
    "# Linear Regression"
   ]
  },
  {
   "cell_type": "code",
   "execution_count": 41,
   "metadata": {},
   "outputs": [],
   "source": [
    "lm = LinearRegression()"
   ]
  },
  {
   "cell_type": "code",
   "execution_count": 42,
   "metadata": {},
   "outputs": [
    {
     "data": {
      "text/plain": [
       "LinearRegression()"
      ]
     },
     "execution_count": 42,
     "metadata": {},
     "output_type": "execute_result"
    }
   ],
   "source": [
    "lm.fit(X_train, y_train)"
   ]
  },
  {
   "cell_type": "code",
   "execution_count": 43,
   "metadata": {},
   "outputs": [
    {
     "data": {
      "text/plain": [
       "16853.162074167867"
      ]
     },
     "execution_count": 43,
     "metadata": {},
     "output_type": "execute_result"
    }
   ],
   "source": [
    "lm.intercept_"
   ]
  },
  {
   "cell_type": "code",
   "execution_count": 44,
   "metadata": {
    "collapsed": true,
    "jupyter": {
     "outputs_hidden": true
    }
   },
   "outputs": [
    {
     "data": {
      "text/plain": [
       "array([-3.98454744e-02, -3.90657395e+01, -2.57589844e+02,  4.13964573e+02,\n",
       "       -5.09479026e+01,  5.08793889e+02, -1.21616486e+02, -1.18862892e+02,\n",
       "        7.42216739e+01,  2.49152147e+02, -3.75136303e+02,  2.14282599e+02,\n",
       "       -1.54623863e+03,  1.18224103e+01,  1.43119658e+02,  9.06158155e+01,\n",
       "        3.66644762e+02,  2.37562382e+03,  3.46022279e+02,  2.00723376e+02,\n",
       "        1.51422682e+02, -2.61353367e+02,  2.19751859e+02,  8.28819486e+01,\n",
       "       -4.19232156e+02,  4.55545996e+02,  6.48291379e+01,  3.79821305e+02,\n",
       "       -2.23380620e+02,  6.52755671e+02,  7.62149054e+01,  1.01814527e+03,\n",
       "        2.59743010e+02, -4.73703227e+02,  9.51944368e+01, -1.97214175e+02,\n",
       "        5.35726391e+01,  7.98480532e+02, -2.23561624e+02, -3.39673283e+01,\n",
       "        7.21934026e+02,  6.77636268e+00, -7.45575308e+02, -1.65169605e+01,\n",
       "       -5.07796027e+02,  4.32150502e+01,  8.07611979e+02,  6.30997658e+01,\n",
       "       -1.95948515e+02, -1.19586004e+01,  2.17006211e+02, -1.78931315e+02,\n",
       "       -1.56484783e+03, -2.35213358e+02,  1.54358220e+02,  2.89708875e+01,\n",
       "        1.15519156e+02, -2.74833671e+02, -3.08455317e+02,  1.59460537e+02,\n",
       "        7.28768010e+01, -5.22550768e+02,  1.08395813e+03,  5.78323264e+02,\n",
       "        2.44848644e+02, -1.00774228e+02, -3.05067751e+02,  4.30155765e+01,\n",
       "        1.54813506e+03, -2.13314137e+02, -6.01218827e+01, -9.20954253e+01,\n",
       "        1.78955150e+02,  1.17127015e+02,  9.83452056e+01, -5.26004387e+02,\n",
       "       -3.11969247e+02, -7.80037723e+01, -1.55228922e+02, -1.31335564e+02,\n",
       "       -1.64783778e+02, -4.52776532e+02,  1.57718460e+02, -8.48250910e+02,\n",
       "       -1.62249172e+02, -4.92163829e+01, -2.00604579e+02, -3.62492237e+02,\n",
       "       -1.57241345e+02,  7.89270288e+02,  8.61572076e+02,  3.56640192e+02,\n",
       "        5.37305661e+02, -5.40267067e+02, -7.20486166e+02,  2.66671781e+01,\n",
       "        1.23526574e+02,  2.41546486e+02, -2.19761453e+00, -3.69873218e+02,\n",
       "        1.25390201e+02, -5.45833929e-01, -1.38439906e+03,  8.93721812e+01,\n",
       "        2.27373675e-12,  1.07716454e+03, -4.27216858e+03, -5.35002472e+03,\n",
       "       -2.17696475e+03, -5.65906521e+03, -1.06343849e+04,  2.31127992e+03,\n",
       "       -1.29712301e+03, -9.19183635e+01,  2.08647362e+02, -6.85099886e+01,\n",
       "        8.93512695e+01, -1.26443448e+03,  1.56297724e+03,  1.77225554e+02,\n",
       "       -2.99176644e+03, -2.21746915e+03, -2.34939056e+03, -2.94641854e+03,\n",
       "        4.94524431e+02,  2.39354529e+02, -1.28399147e+03, -1.01575801e+02,\n",
       "        5.36555197e+01,  5.05337824e+02, -7.14488216e+03,  8.49934340e+01,\n",
       "        1.65988868e+02, -4.64135877e+02,  4.79450808e+02,  7.14977104e+02,\n",
       "        4.33400100e+02, -1.38562409e+03,  2.30835890e+03, -2.19018635e+03,\n",
       "       -4.37984283e+03,  6.43685871e+02,  5.30892523e+02])"
      ]
     },
     "execution_count": 44,
     "metadata": {},
     "output_type": "execute_result"
    }
   ],
   "source": [
    "lm.coef_"
   ]
  },
  {
   "cell_type": "code",
   "execution_count": 45,
   "metadata": {},
   "outputs": [],
   "source": [
    "y_pred = lm.predict(X_test)"
   ]
  },
  {
   "cell_type": "code",
   "execution_count": 46,
   "metadata": {},
   "outputs": [
    {
     "name": "stdout",
     "output_type": "stream",
     "text": [
      "r2_score: 0.8911819282388025 \n",
      " mae: 1724.4861527162286 \n",
      " mse: 5872648.048024018 \n",
      " rmse: 2423.3547094934365\n"
     ]
    }
   ],
   "source": [
    "eval_metrics(y_test, y_pred)"
   ]
  },
  {
   "cell_type": "code",
   "execution_count": 59,
   "metadata": {},
   "outputs": [],
   "source": [
    "r2 = np.sqrt(mean_squared_error(y_test, y_pred))"
   ]
  },
  {
   "cell_type": "code",
   "execution_count": 60,
   "metadata": {},
   "outputs": [],
   "source": [
    "p = X.shape[1]"
   ]
  },
  {
   "cell_type": "code",
   "execution_count": 61,
   "metadata": {},
   "outputs": [],
   "source": [
    "n = X_test.shape[0]"
   ]
  },
  {
   "cell_type": "code",
   "execution_count": 62,
   "metadata": {},
   "outputs": [],
   "source": [
    "adj_r2 = 1-(1-r2)*(n-1)/(n-p-1)"
   ]
  },
  {
   "cell_type": "code",
   "execution_count": 63,
   "metadata": {},
   "outputs": [
    {
     "data": {
      "text/plain": [
       "2537.338494770686"
      ]
     },
     "execution_count": 63,
     "metadata": {},
     "output_type": "execute_result"
    }
   ],
   "source": [
    "adj_r2"
   ]
  },
  {
   "cell_type": "code",
   "execution_count": 64,
   "metadata": {},
   "outputs": [
    {
     "data": {
      "text/plain": [
       "<matplotlib.collections.PathCollection at 0x7efff9bc6f10>"
      ]
     },
     "execution_count": 64,
     "metadata": {},
     "output_type": "execute_result"
    },
    {
     "data": {
      "image/png": "[encoded data removed]",
      "text/plain": [
       "<Figure size 432x288 with 1 Axes>"
      ]
     },
     "metadata": {
      "needs_background": "light"
     },
     "output_type": "display_data"
    }
   ],
   "source": [
    "plt.scatter(y_test, y_pred)"
   ]
  },
  {
   "cell_type": "code",
   "execution_count": 66,
   "metadata": {},
   "outputs": [
    {
     "data": {
      "image/png": "[encoded data removed]",
      "text/plain": [
       "<Figure size 576x396 with 2 Axes>"
      ]
     },
     "metadata": {},
     "output_type": "display_data"
    },
    {
     "data": {
      "text/plain": [
       "<AxesSubplot:title={'center':'Residuals for LinearRegression Model'}, xlabel='Predicted Value', ylabel='Residuals'>"
      ]
     },
     "execution_count": 66,
     "metadata": {},
     "output_type": "execute_result"
    }
   ],
   "source": [
    "visualizer = ResidualsPlot(lm)\n",
    "\n",
    "visualizer.fit(X_train, y_train)\n",
    "visualizer.score(X_test, y_test)\n",
    "visualizer.show()"
   ]
  },
  {
   "cell_type": "code",
   "execution_count": 67,
   "metadata": {},
   "outputs": [],
   "source": [
    "my_dict = {\"Actual\": y_test, \"Pred\": y_pred}"
   ]
  },
  {
   "cell_type": "code",
   "execution_count": 68,
   "metadata": {},
   "outputs": [],
   "source": [
    "compare = pd.DataFrame(my_dict)"
   ]
  },
  {
   "cell_type": "code",
   "execution_count": 69,
   "metadata": {},
   "outputs": [
    {
     "data": {
      "text/html": [
       "<div>\n",
       "<style scoped>\n",
       "    .dataframe tbody tr th:only-of-type {\n",
       "        vertical-align: middle;\n",
       "    }\n",
       "\n",
       "    .dataframe tbody tr th {\n",
       "        vertical-align: top;\n",
       "    }\n",
       "\n",
       "    .dataframe thead th {\n",
       "        text-align: right;\n",
       "    }\n",
       "</style>\n",
       "<table border=\"1\" class=\"dataframe\">\n",
       "  <thead>\n",
       "    <tr style=\"text-align: right;\">\n",
       "      <th></th>\n",
       "      <th>Actual</th>\n",
       "      <th>Pred</th>\n",
       "    </tr>\n",
       "  </thead>\n",
       "  <tbody>\n",
       "    <tr>\n",
       "      <th>12887</th>\n",
       "      <td>26379</td>\n",
       "      <td>24518.018502</td>\n",
       "    </tr>\n",
       "    <tr>\n",
       "      <th>8140</th>\n",
       "      <td>18990</td>\n",
       "      <td>18880.749499</td>\n",
       "    </tr>\n",
       "    <tr>\n",
       "      <th>6835</th>\n",
       "      <td>12490</td>\n",
       "      <td>12261.138081</td>\n",
       "    </tr>\n",
       "    <tr>\n",
       "      <th>15439</th>\n",
       "      <td>32975</td>\n",
       "      <td>35358.639685</td>\n",
       "    </tr>\n",
       "    <tr>\n",
       "      <th>1213</th>\n",
       "      <td>15888</td>\n",
       "      <td>14969.701488</td>\n",
       "    </tr>\n",
       "    <tr>\n",
       "      <th>13187</th>\n",
       "      <td>15480</td>\n",
       "      <td>15136.610661</td>\n",
       "    </tr>\n",
       "    <tr>\n",
       "      <th>1034</th>\n",
       "      <td>20500</td>\n",
       "      <td>22446.017913</td>\n",
       "    </tr>\n",
       "    <tr>\n",
       "      <th>2864</th>\n",
       "      <td>16760</td>\n",
       "      <td>16049.883881</td>\n",
       "    </tr>\n",
       "    <tr>\n",
       "      <th>7061</th>\n",
       "      <td>18990</td>\n",
       "      <td>17496.062762</td>\n",
       "    </tr>\n",
       "    <tr>\n",
       "      <th>14983</th>\n",
       "      <td>27000</td>\n",
       "      <td>25032.312157</td>\n",
       "    </tr>\n",
       "  </tbody>\n",
       "</table>\n",
       "</div>"
      ],
      "text/plain": [
       "       Actual          Pred\n",
       "12887   26379  24518.018502\n",
       "8140    18990  18880.749499\n",
       "6835    12490  12261.138081\n",
       "15439   32975  35358.639685\n",
       "1213    15888  14969.701488\n",
       "13187   15480  15136.610661\n",
       "1034    20500  22446.017913\n",
       "2864    16760  16049.883881\n",
       "7061    18990  17496.062762\n",
       "14983   27000  25032.312157"
      ]
     },
     "execution_count": 69,
     "metadata": {},
     "output_type": "execute_result"
    }
   ],
   "source": [
    "compare.head(10)"
   ]
  },
  {
   "cell_type": "code",
   "execution_count": 70,
   "metadata": {},
   "outputs": [],
   "source": [
    "# Cross-Validation"
   ]
  },
  {
   "cell_type": "code",
   "execution_count": 76,
   "metadata": {},
   "outputs": [],
   "source": [
    "cv_scores = cross_val_score(estimator=lm, X=X_train, y=y_train, cv=10)"
   ]
  },
  {
   "cell_type": "code",
   "execution_count": 77,
   "metadata": {},
   "outputs": [
    {
     "data": {
      "text/plain": [
       "0.8835560647890656"
      ]
     },
     "execution_count": 77,
     "metadata": {},
     "output_type": "execute_result"
    }
   ],
   "source": [
    "cv_scores.mean()"
   ]
  },
  {
   "cell_type": "code",
   "execution_count": 78,
   "metadata": {},
   "outputs": [],
   "source": [
    "# Ridge Regression"
   ]
  },
  {
   "cell_type": "code",
   "execution_count": 80,
   "metadata": {},
   "outputs": [],
   "source": [
    "ridge_model = Ridge(normalize=True)"
   ]
  },
  {
   "cell_type": "code",
   "execution_count": 81,
   "metadata": {},
   "outputs": [
    {
     "data": {
      "text/plain": [
       "Ridge(normalize=True)"
      ]
     },
     "execution_count": 81,
     "metadata": {},
     "output_type": "execute_result"
    }
   ],
   "source": [
    "ridge_model.fit(X_train, y_train)"
   ]
  },
  {
   "cell_type": "code",
   "execution_count": 82,
   "metadata": {},
   "outputs": [],
   "source": [
    "y_pred = ridge_model.predict(X_test)"
   ]
  },
  {
   "cell_type": "code",
   "execution_count": 83,
   "metadata": {},
   "outputs": [
    {
     "name": "stdout",
     "output_type": "stream",
     "text": [
      "r2_score: 0.826594021345416 \n",
      " mae: 2128.4531254597186 \n",
      " mse: 9358301.112854883 \n",
      " rmse: 3059.1340462383932\n"
     ]
    }
   ],
   "source": [
    "eval_metrics(y_test, y_pred)"
   ]
  },
  {
   "cell_type": "code",
   "execution_count": 84,
   "metadata": {},
   "outputs": [],
   "source": [
    "alpha_space = np.linspace(0.1, 20, 1000)"
   ]
  },
  {
   "cell_type": "code",
   "execution_count": 85,
   "metadata": {},
   "outputs": [],
   "source": [
    "ridgecv = RidgeCV(alphas=alpha_space, normalize=True, cv=10)"
   ]
  },
  {
   "cell_type": "code",
   "execution_count": 86,
   "metadata": {},
   "outputs": [
    {
     "data": {
      "text/plain": [
       "RidgeCV(alphas=array([ 0.1       ,  0.11991992,  0.13983984,  0.15975976,  0.17967968,\n",
       "        0.1995996 ,  0.21951952,  0.23943944,  0.25935936,  0.27927928,\n",
       "        0.2991992 ,  0.31911912,  0.33903904,  0.35895896,  0.37887888,\n",
       "        0.3987988 ,  0.41871872,  0.43863864,  0.45855856,  0.47847848,\n",
       "        0.4983984 ,  0.51831832,  0.53823824,  0.55815816,  0.57807808,\n",
       "        0.597998  ,  0.61791792,  0.63783784,  0.65775776,  0.67767768,\n",
       "        0.6975976 ,  0...\n",
       "       19.42232232, 19.44224224, 19.46216216, 19.48208208, 19.502002  ,\n",
       "       19.52192192, 19.54184184, 19.56176176, 19.58168168, 19.6016016 ,\n",
       "       19.62152152, 19.64144144, 19.66136136, 19.68128128, 19.7012012 ,\n",
       "       19.72112112, 19.74104104, 19.76096096, 19.78088088, 19.8008008 ,\n",
       "       19.82072072, 19.84064064, 19.86056056, 19.88048048, 19.9004004 ,\n",
       "       19.92032032, 19.94024024, 19.96016016, 19.98008008, 20.        ]),\n",
       "        cv=10, normalize=True)"
      ]
     },
     "execution_count": 86,
     "metadata": {},
     "output_type": "execute_result"
    }
   ],
   "source": [
    "ridgecv.fit(X_train, y_train)"
   ]
  },
  {
   "cell_type": "code",
   "execution_count": 87,
   "metadata": {},
   "outputs": [
    {
     "data": {
      "text/plain": [
       "0.1"
      ]
     },
     "execution_count": 87,
     "metadata": {},
     "output_type": "execute_result"
    }
   ],
   "source": [
    "ridgecv.alpha_"
   ]
  },
  {
   "cell_type": "code",
   "execution_count": 88,
   "metadata": {},
   "outputs": [],
   "source": [
    "ridge_model = Ridge(alpha=0.1, normalize=True)"
   ]
  },
  {
   "cell_type": "code",
   "execution_count": 89,
   "metadata": {},
   "outputs": [
    {
     "data": {
      "text/plain": [
       "Ridge(alpha=0.1, normalize=True)"
      ]
     },
     "execution_count": 89,
     "metadata": {},
     "output_type": "execute_result"
    }
   ],
   "source": [
    "ridge_model.fit(X_train, y_train)"
   ]
  },
  {
   "cell_type": "code",
   "execution_count": 91,
   "metadata": {},
   "outputs": [],
   "source": [
    "y_pred = ridge_model.predict(X_test)"
   ]
  },
  {
   "cell_type": "code",
   "execution_count": 92,
   "metadata": {},
   "outputs": [
    {
     "name": "stdout",
     "output_type": "stream",
     "text": [
      "r2_score: 0.8850256855768341 \n",
      " mae: 1755.9075590407215 \n",
      " mse: 6204885.569483782 \n",
      " rmse: 2490.9607723695253\n"
     ]
    }
   ],
   "source": [
    "eval_metrics(y_test, y_pred)"
   ]
  },
  {
   "cell_type": "code",
   "execution_count": 93,
   "metadata": {},
   "outputs": [],
   "source": [
    "# Lasso Regression"
   ]
  },
  {
   "cell_type": "code",
   "execution_count": 95,
   "metadata": {},
   "outputs": [],
   "source": [
    "lasso_model = Lasso(normalize=True)"
   ]
  },
  {
   "cell_type": "code",
   "execution_count": 96,
   "metadata": {},
   "outputs": [
    {
     "data": {
      "text/plain": [
       "Lasso(normalize=True)"
      ]
     },
     "execution_count": 96,
     "metadata": {},
     "output_type": "execute_result"
    }
   ],
   "source": [
    "lasso_model.fit(X_train, y_train)"
   ]
  },
  {
   "cell_type": "code",
   "execution_count": 97,
   "metadata": {},
   "outputs": [],
   "source": [
    "y_pred = lasso_model.predict(X_test)"
   ]
  },
  {
   "cell_type": "code",
   "execution_count": 98,
   "metadata": {},
   "outputs": [
    {
     "name": "stdout",
     "output_type": "stream",
     "text": [
      "r2_score: 0.8811119597668843 \n",
      " mae: 1783.8119116527605 \n",
      " mse: 6416099.88220145 \n",
      " rmse: 2533.00214808465\n"
     ]
    }
   ],
   "source": [
    "eval_metrics(y_test, y_pred)"
   ]
  },
  {
   "cell_type": "code",
   "execution_count": 100,
   "metadata": {},
   "outputs": [],
   "source": [
    "lassocv = LassoCV(alphas = alpha_space, normalize=True, cv=10)"
   ]
  },
  {
   "cell_type": "code",
   "execution_count": 101,
   "metadata": {},
   "outputs": [
    {
     "data": {
      "text/plain": [
       "LassoCV(alphas=array([ 0.1       ,  0.11991992,  0.13983984,  0.15975976,  0.17967968,\n",
       "        0.1995996 ,  0.21951952,  0.23943944,  0.25935936,  0.27927928,\n",
       "        0.2991992 ,  0.31911912,  0.33903904,  0.35895896,  0.37887888,\n",
       "        0.3987988 ,  0.41871872,  0.43863864,  0.45855856,  0.47847848,\n",
       "        0.4983984 ,  0.51831832,  0.53823824,  0.55815816,  0.57807808,\n",
       "        0.597998  ,  0.61791792,  0.63783784,  0.65775776,  0.67767768,\n",
       "        0.6975976 ,  0...\n",
       "       19.42232232, 19.44224224, 19.46216216, 19.48208208, 19.502002  ,\n",
       "       19.52192192, 19.54184184, 19.56176176, 19.58168168, 19.6016016 ,\n",
       "       19.62152152, 19.64144144, 19.66136136, 19.68128128, 19.7012012 ,\n",
       "       19.72112112, 19.74104104, 19.76096096, 19.78088088, 19.8008008 ,\n",
       "       19.82072072, 19.84064064, 19.86056056, 19.88048048, 19.9004004 ,\n",
       "       19.92032032, 19.94024024, 19.96016016, 19.98008008, 20.        ]),\n",
       "        cv=10, normalize=True)"
      ]
     },
     "execution_count": 101,
     "metadata": {},
     "output_type": "execute_result"
    }
   ],
   "source": [
    "lassocv.fit(X_train, y_train)"
   ]
  },
  {
   "cell_type": "code",
   "execution_count": 102,
   "metadata": {},
   "outputs": [
    {
     "data": {
      "text/plain": [
       "0.1"
      ]
     },
     "execution_count": 102,
     "metadata": {},
     "output_type": "execute_result"
    }
   ],
   "source": [
    "lassocv.alpha_"
   ]
  },
  {
   "cell_type": "code",
   "execution_count": 103,
   "metadata": {},
   "outputs": [],
   "source": [
    "lasso_model = Lasso(alpha=0.1, normalize=True)"
   ]
  },
  {
   "cell_type": "code",
   "execution_count": 104,
   "metadata": {},
   "outputs": [
    {
     "data": {
      "text/plain": [
       "Lasso(alpha=0.1, normalize=True)"
      ]
     },
     "execution_count": 104,
     "metadata": {},
     "output_type": "execute_result"
    }
   ],
   "source": [
    "lasso_model.fit(X_train, y_train)"
   ]
  },
  {
   "cell_type": "code",
   "execution_count": 105,
   "metadata": {},
   "outputs": [],
   "source": [
    "y_pred = lasso_model.predict(X_test)"
   ]
  },
  {
   "cell_type": "code",
   "execution_count": 106,
   "metadata": {},
   "outputs": [
    {
     "name": "stdout",
     "output_type": "stream",
     "text": [
      "r2_score: 0.8910341654854181 \n",
      " mae: 1721.8057428554287 \n",
      " mse: 5880622.446312729 \n",
      " rmse: 2424.999473466485\n"
     ]
    }
   ],
   "source": [
    "eval_metrics(y_test, y_pred)"
   ]
  },
  {
   "cell_type": "code",
   "execution_count": 107,
   "metadata": {},
   "outputs": [],
   "source": [
    "# Higher alpha values will result in more features to be eliminated."
   ]
  },
  {
   "cell_type": "code",
   "execution_count": 109,
   "metadata": {},
   "outputs": [],
   "source": [
    "# Ridge will never completely eliminate a feature but lasso can, depending on the alpha value."
   ]
  },
  {
   "cell_type": "code",
   "execution_count": 110,
   "metadata": {},
   "outputs": [],
   "source": [
    "# We can use lasso for feature selection but we can't use it to compare importance of features based on the coefficients lasso determines."
   ]
  },
  {
   "cell_type": "code",
   "execution_count": 111,
   "metadata": {},
   "outputs": [],
   "source": [
    "# Random Forest Regressor"
   ]
  },
  {
   "cell_type": "code",
   "execution_count": 113,
   "metadata": {},
   "outputs": [],
   "source": [
    "rf_reg = RandomForestRegressor()"
   ]
  },
  {
   "cell_type": "code",
   "execution_count": 114,
   "metadata": {},
   "outputs": [
    {
     "data": {
      "text/plain": [
       "RandomForestRegressor()"
      ]
     },
     "execution_count": 114,
     "metadata": {},
     "output_type": "execute_result"
    }
   ],
   "source": [
    "rf_reg.fit(X_train, y_train)"
   ]
  },
  {
   "cell_type": "code",
   "execution_count": 115,
   "metadata": {},
   "outputs": [],
   "source": [
    "y_pred = rf_reg.predict(X_test)"
   ]
  },
  {
   "cell_type": "code",
   "execution_count": 116,
   "metadata": {},
   "outputs": [
    {
     "name": "stdout",
     "output_type": "stream",
     "text": [
      "r2_score: 0.9584616427756208 \n",
      " mae: 846.4478259903174 \n",
      " mse: 2241724.63749591 \n",
      " rmse: 1497.2390048004727\n"
     ]
    }
   ],
   "source": [
    "eval_metrics(y_test, y_pred)"
   ]
  },
  {
   "cell_type": "code",
   "execution_count": 119,
   "metadata": {},
   "outputs": [],
   "source": [
    "# Random Forest Regressor performed much better than linear models."
   ]
  },
  {
   "cell_type": "code",
   "execution_count": 118,
   "metadata": {},
   "outputs": [],
   "source": [
    "cv_scores = cross_val_score(estimator=rf_reg, X=X_train, y=y_train, cv=10)"
   ]
  },
  {
   "cell_type": "code",
   "execution_count": 120,
   "metadata": {},
   "outputs": [
    {
     "data": {
      "text/plain": [
       "0.9518115609579404"
      ]
     },
     "execution_count": 120,
     "metadata": {},
     "output_type": "execute_result"
    }
   ],
   "source": [
    "cv_scores.mean()"
   ]
  },
  {
   "cell_type": "code",
   "execution_count": 121,
   "metadata": {},
   "outputs": [],
   "source": [
    "# Random Forest Feature Importance"
   ]
  },
  {
   "cell_type": "code",
   "execution_count": 122,
   "metadata": {},
   "outputs": [
    {
     "data": {
      "text/plain": [
       "array([6.48432105e-02, 1.24671075e-03, 6.26613608e-04, 8.27859409e-04,\n",
       "       9.76474210e-04, 1.47059037e-02, 2.74976227e-04, 4.09859487e-05,\n",
       "       8.61468880e-04, 1.81577606e-03, 1.69953182e-04, 4.77609371e-04,\n",
       "       3.44521685e-07, 1.85461922e-03, 4.48189907e-04, 1.90112701e-03,\n",
       "       3.37745427e-04, 3.21303312e-03, 8.63038273e-04, 2.26824473e-03,\n",
       "       5.89057357e-04, 4.28340356e-05, 4.23231036e-04, 5.29607422e-04,\n",
       "       5.06131662e-04, 4.24919418e-04, 5.62556708e-04, 6.53823299e-04,\n",
       "       3.43822106e-04, 1.94045953e-03, 7.39206526e-04, 9.34198875e-04,\n",
       "       4.90938172e-04, 7.00127210e-04, 2.93560066e-04, 4.28441355e-04,\n",
       "       1.53667076e-03, 5.45438910e-04, 3.41047776e-04, 6.84602501e-04,\n",
       "       5.45560607e-04, 2.00977961e-04, 1.09908984e-05, 1.11739726e-06,\n",
       "       1.82923379e-03, 4.69937959e-04, 4.20833330e-04, 6.36382405e-04,\n",
       "       4.01781492e-04, 2.78941363e-04, 7.09501098e-04, 4.61457279e-04,\n",
       "       1.01656775e-04, 6.90717373e-04, 5.93029144e-04, 4.09662635e-05,\n",
       "       3.07164942e-04, 2.76995060e-05, 1.32231379e-07, 6.69183658e-04,\n",
       "       4.62607559e-04, 6.77900180e-05, 2.29517885e-07, 3.76079027e-04,\n",
       "       5.10826941e-04, 2.16369190e-04, 5.44356873e-04, 2.04124416e-04,\n",
       "       1.71666341e-04, 3.48801905e-04, 3.66010134e-05, 4.47510584e-04,\n",
       "       7.73688323e-04, 5.81602472e-04, 6.23956863e-04, 4.66595620e-04,\n",
       "       2.92043713e-04, 2.58671779e-04, 4.05722911e-04, 1.84024534e-04,\n",
       "       2.49537880e-04, 5.95947124e-04, 4.21315039e-04, 1.89522734e-04,\n",
       "       8.29542570e-04, 2.36814925e-04, 4.94451648e-04, 7.53119235e-04,\n",
       "       4.73805880e-04, 4.65984414e-03, 6.12031470e-04, 4.72217607e-05,\n",
       "       2.07090919e-04, 3.76914855e-03, 3.29208050e-04, 5.35547062e-04,\n",
       "       4.60112360e-04, 7.31487338e-04, 3.20536822e-04, 7.88823038e-03,\n",
       "       1.17270021e-02, 1.70502143e-02, 2.01791254e-01, 4.88090759e-01,\n",
       "       0.00000000e+00, 1.17107934e-02, 1.27237939e-02, 3.94454598e-03,\n",
       "       5.35278899e-03, 3.99779275e-03, 4.03851442e-05, 6.06561036e-02,\n",
       "       6.81394091e-05, 6.20949161e-06, 3.96970732e-05, 8.60772233e-04,\n",
       "       5.65342436e-04, 5.30974041e-05, 2.47022001e-04, 4.81262206e-04,\n",
       "       1.11868208e-04, 4.57718150e-04, 2.66683062e-04, 8.68831482e-04,\n",
       "       9.85326049e-04, 3.87929924e-04, 1.89706445e-05, 1.70530310e-04,\n",
       "       5.61266202e-05, 6.85694838e-04, 3.06494557e-04, 2.26657701e-04,\n",
       "       3.03469116e-04, 1.07091783e-05, 1.02871936e-03, 2.86031933e-05,\n",
       "       9.33356736e-04, 1.61747683e-02, 6.85689867e-03, 4.09538640e-04,\n",
       "       1.60751127e-06, 4.85943880e-04, 1.76968814e-04])"
      ]
     },
     "execution_count": 122,
     "metadata": {},
     "output_type": "execute_result"
    }
   ],
   "source": [
    "rf_reg.feature_importances_"
   ]
  },
  {
   "cell_type": "code",
   "execution_count": 123,
   "metadata": {},
   "outputs": [],
   "source": [
    "importance = pd.DataFrame({\"importance\": rf_reg.feature_importances_},\n",
    "                         index=X_train.columns)"
   ]
  },
  {
   "cell_type": "code",
   "execution_count": 125,
   "metadata": {},
   "outputs": [
    {
     "data": {
      "text/html": [
       "<div>\n",
       "<style scoped>\n",
       "    .dataframe tbody tr th:only-of-type {\n",
       "        vertical-align: middle;\n",
       "    }\n",
       "\n",
       "    .dataframe tbody tr th {\n",
       "        vertical-align: top;\n",
       "    }\n",
       "\n",
       "    .dataframe thead th {\n",
       "        text-align: right;\n",
       "    }\n",
       "</style>\n",
       "<table border=\"1\" class=\"dataframe\">\n",
       "  <thead>\n",
       "    <tr style=\"text-align: right;\">\n",
       "      <th></th>\n",
       "      <th>importance</th>\n",
       "    </tr>\n",
       "  </thead>\n",
       "  <tbody>\n",
       "    <tr>\n",
       "      <th>hp_kw</th>\n",
       "      <td>0.488091</td>\n",
       "    </tr>\n",
       "    <tr>\n",
       "      <th>register_age</th>\n",
       "      <td>0.201791</td>\n",
       "    </tr>\n",
       "    <tr>\n",
       "      <th>km</th>\n",
       "      <td>0.064843</td>\n",
       "    </tr>\n",
       "    <tr>\n",
       "      <th>make_model_Renault Espace</th>\n",
       "      <td>0.060656</td>\n",
       "    </tr>\n",
       "    <tr>\n",
       "      <th>displacement_cc</th>\n",
       "      <td>0.017050</td>\n",
       "    </tr>\n",
       "  </tbody>\n",
       "</table>\n",
       "</div>"
      ],
      "text/plain": [
       "                           importance\n",
       "hp_kw                        0.488091\n",
       "register_age                 0.201791\n",
       "km                           0.064843\n",
       "make_model_Renault Espace    0.060656\n",
       "displacement_cc              0.017050"
      ]
     },
     "execution_count": 125,
     "metadata": {},
     "output_type": "execute_result"
    }
   ],
   "source": [
    "importance.sort_values(by=\"importance\", ascending=False).head()"
   ]
  },
  {
   "cell_type": "code",
   "execution_count": 127,
   "metadata": {},
   "outputs": [
    {
     "data": {
      "text/plain": [
       "<AxesSubplot:>"
      ]
     },
     "execution_count": 127,
     "metadata": {},
     "output_type": "execute_result"
    },
    {
     "data": {
      "image/png": "[encoded data removed]",
      "text/plain": [
       "<Figure size 576x396 with 1 Axes>"
      ]
     },
     "metadata": {},
     "output_type": "display_data"
    }
   ],
   "source": [
    "importance.sort_values(by=\"importance\", ascending=False).head(10).plot.barh()"
   ]
  },
  {
   "cell_type": "code",
   "execution_count": 128,
   "metadata": {},
   "outputs": [],
   "source": [
    "# Model tuning for RF hyperparameters."
   ]
  },
  {
   "cell_type": "code",
   "execution_count": 132,
   "metadata": {},
   "outputs": [],
   "source": [
    "rf_params = {\"n_estimators\": [50, 100, 200, 300, 500, 700],\n",
    "            \"max_depth\": [3, 5, 7],\n",
    "            \"max_features\": [2, 4, 6, 8],\n",
    "            \"min_samples_split\": [2, 4, 6]}"
   ]
  },
  {
   "cell_type": "code",
   "execution_count": 133,
   "metadata": {},
   "outputs": [
    {
     "name": "stdout",
     "output_type": "stream",
     "text": [
      "Fitting 10 folds for each of 216 candidates, totalling 2160 fits\n"
     ]
    },
    {
     "name": "stderr",
     "output_type": "stream",
     "text": [
      "[Parallel(n_jobs=-1)]: Using backend LokyBackend with 8 concurrent workers.\n",
      "[Parallel(n_jobs=-1)]: Done  16 tasks      | elapsed:    1.2s\n",
      "[Parallel(n_jobs=-1)]: Done 112 tasks      | elapsed:   17.5s\n",
      "[Parallel(n_jobs=-1)]: Done 272 tasks      | elapsed:   42.0s\n",
      "[Parallel(n_jobs=-1)]: Done 496 tasks      | elapsed:  1.4min\n",
      "[Parallel(n_jobs=-1)]: Done 784 tasks      | elapsed:  2.5min\n",
      "[Parallel(n_jobs=-1)]: Done 1136 tasks      | elapsed:  3.9min\n",
      "[Parallel(n_jobs=-1)]: Done 1552 tasks      | elapsed:  6.0min\n",
      "[Parallel(n_jobs=-1)]: Done 2032 tasks      | elapsed:  8.9min\n",
      "[Parallel(n_jobs=-1)]: Done 2160 out of 2160 | elapsed:  9.9min finished\n"
     ]
    }
   ],
   "source": [
    "rf_cv_model = GridSearchCV(rf_reg, rf_params, cv=10, n_jobs=-1, verbose=3).fit(X_train, y_train)"
   ]
  },
  {
   "cell_type": "code",
   "execution_count": 134,
   "metadata": {},
   "outputs": [
    {
     "data": {
      "text/plain": [
       "{'max_depth': 7,\n",
       " 'max_features': 8,\n",
       " 'min_samples_split': 4,\n",
       " 'n_estimators': 700}"
      ]
     },
     "execution_count": 134,
     "metadata": {},
     "output_type": "execute_result"
    }
   ],
   "source": [
    "rf_cv_model.best_params_"
   ]
  },
  {
   "cell_type": "code",
   "execution_count": 152,
   "metadata": {},
   "outputs": [],
   "source": [
    "rf_tuned = RandomForestRegressor(max_features=8,\n",
    "                                min_samples_split=4,\n",
    "                                n_estimators=700)"
   ]
  },
  {
   "cell_type": "code",
   "execution_count": 153,
   "metadata": {},
   "outputs": [
    {
     "data": {
      "text/plain": [
       "RandomForestRegressor(max_features=8, min_samples_split=4, n_estimators=700)"
      ]
     },
     "execution_count": 153,
     "metadata": {},
     "output_type": "execute_result"
    }
   ],
   "source": [
    "rf_tuned.fit(X_train, y_train)"
   ]
  },
  {
   "cell_type": "code",
   "execution_count": 154,
   "metadata": {},
   "outputs": [],
   "source": [
    "y_pred = rf_tuned.predict(X_test)"
   ]
  },
  {
   "cell_type": "code",
   "execution_count": 155,
   "metadata": {},
   "outputs": [
    {
     "name": "stdout",
     "output_type": "stream",
     "text": [
      "r2_score: 0.9384286173841389 \n",
      " mae: 1067.2773327822724 \n",
      " mse: 3322858.5480423155 \n",
      " rmse: 1822.8709630805783\n"
     ]
    }
   ],
   "source": [
    "eval_metrics(y_test, y_pred)"
   ]
  },
  {
   "cell_type": "code",
   "execution_count": 151,
   "metadata": {},
   "outputs": [],
   "source": [
    "# Tuned Random Forest performed worse than the one with default hyperparameters."
   ]
  },
  {
   "cell_type": "code",
   "execution_count": 156,
   "metadata": {},
   "outputs": [],
   "source": [
    "cv_scores = cross_val_score(estimator=rf_tuned, X=X_train, y=y_train, cv=10)"
   ]
  },
  {
   "cell_type": "code",
   "execution_count": 157,
   "metadata": {},
   "outputs": [
    {
     "data": {
      "text/plain": [
       "0.931558072792497"
      ]
     },
     "execution_count": 157,
     "metadata": {},
     "output_type": "execute_result"
    }
   ],
   "source": [
    "cv_scores.mean()"
   ]
  },
  {
   "cell_type": "code",
   "execution_count": 158,
   "metadata": {},
   "outputs": [],
   "source": [
    "# Let's try XGBoost now."
   ]
  },
  {
   "cell_type": "code",
   "execution_count": 162,
   "metadata": {},
   "outputs": [],
   "source": [
    "model_xg = XGBRegressor()"
   ]
  },
  {
   "cell_type": "code",
   "execution_count": 163,
   "metadata": {},
   "outputs": [
    {
     "data": {
      "text/plain": [
       "XGBRegressor(base_score=0.5, booster='gbtree', colsample_bylevel=1,\n",
       "             colsample_bynode=1, colsample_bytree=1, gamma=0, gpu_id=-1,\n",
       "             importance_type='gain', interaction_constraints='',\n",
       "             learning_rate=0.300000012, max_delta_step=0, max_depth=6,\n",
       "             min_child_weight=1, missing=nan, monotone_constraints='()',\n",
       "             n_estimators=100, n_jobs=8, num_parallel_tree=1, random_state=0,\n",
       "             reg_alpha=0, reg_lambda=1, scale_pos_weight=1, subsample=1,\n",
       "             tree_method='exact', validate_parameters=1, verbosity=None)"
      ]
     },
     "execution_count": 163,
     "metadata": {},
     "output_type": "execute_result"
    }
   ],
   "source": [
    "model_xg.fit(X_train, y_train)"
   ]
  },
  {
   "cell_type": "code",
   "execution_count": 164,
   "metadata": {},
   "outputs": [],
   "source": [
    "y_pred = model_xg.predict(X_test)"
   ]
  },
  {
   "cell_type": "code",
   "execution_count": 165,
   "metadata": {},
   "outputs": [
    {
     "name": "stdout",
     "output_type": "stream",
     "text": [
      "r2_score: 0.9598956346999711 \n",
      " mae: 926.945005234105 \n",
      " mse: 2164335.562876961 \n",
      " rmse: 1471.1680947046673\n"
     ]
    }
   ],
   "source": [
    "eval_metrics(y_test, y_pred)"
   ]
  },
  {
   "cell_type": "code",
   "execution_count": 166,
   "metadata": {},
   "outputs": [],
   "source": [
    "cv_scores = cross_val_score(estimator=model_xg, X=X_train, y=y_train, cv=10)"
   ]
  },
  {
   "cell_type": "code",
   "execution_count": 167,
   "metadata": {},
   "outputs": [
    {
     "data": {
      "text/plain": [
       "0.9534829450814557"
      ]
     },
     "execution_count": 167,
     "metadata": {},
     "output_type": "execute_result"
    }
   ],
   "source": [
    "cv_scores.mean()"
   ]
  },
  {
   "cell_type": "code",
   "execution_count": 168,
   "metadata": {},
   "outputs": [],
   "source": [
    "# XGBoost with default hyperparameters performed slightly better than Random Forest Regression with default hyperparameters"
   ]
  },
  {
   "cell_type": "code",
   "execution_count": null,
   "metadata": {},
   "outputs": [],
   "source": []
  }
 ],
 "metadata": {
  "kernelspec": {
   "display_name": "Python 3",
   "language": "python",
   "name": "python3"
  },
  "language_info": {
   "codemirror_mode": {
    "name": "ipython",
    "version": 3
   },
   "file_extension": ".py",
   "mimetype": "text/x-python",
   "name": "python",
   "nbconvert_exporter": "python",
   "pygments_lexer": "ipython3",
   "version": "3.8.5"
  }
 },
 "nbformat": 4,
 "nbformat_minor": 4
}
